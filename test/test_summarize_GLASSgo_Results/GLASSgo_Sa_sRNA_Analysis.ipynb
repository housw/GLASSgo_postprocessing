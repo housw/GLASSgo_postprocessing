{
 "cells": [
  {
   "cell_type": "markdown",
   "metadata": {},
   "source": [
    "## GLASSgo sRNA distribution analysis"
   ]
  },
  {
   "cell_type": "code",
   "execution_count": 8,
   "metadata": {},
   "outputs": [
    {
     "name": "stderr",
     "output_type": "stream",
     "text": [
      "\n",
      "Attaching package: 'dplyr'\n",
      "\n",
      "The following objects are masked from 'package:stats':\n",
      "\n",
      "    filter, lag\n",
      "\n",
      "The following objects are masked from 'package:base':\n",
      "\n",
      "    intersect, setdiff, setequal, union\n",
      "\n"
     ]
    }
   ],
   "source": [
    "# packages \n",
    "library(dplyr)"
   ]
  },
  {
   "cell_type": "code",
   "execution_count": 6,
   "metadata": {},
   "outputs": [
    {
     "data": {
      "text/html": [
       "<table>\n",
       "<thead><tr><th scope=col>TaxID</th><th scope=col>sci_name</th><th scope=col>rank</th><th scope=col>HG001_00733</th><th scope=col>HG001_00584</th><th scope=col>HG001_01345__HG001_03252</th></tr></thead>\n",
       "<tbody>\n",
       "\t<tr><td>   2                   </td><td>Bacteria               </td><td>superkingdom           </td><td>168                    </td><td>95                     </td><td>316                    </td></tr>\n",
       "\t<tr><td>1239                   </td><td>Firmicutes             </td><td>phylum                 </td><td>168                    </td><td>95                     </td><td>316                    </td></tr>\n",
       "\t<tr><td>1260                   </td><td>Finegoldia magna       </td><td>species                </td><td>  1                    </td><td> 0                     </td><td>  0                    </td></tr>\n",
       "\t<tr><td>1279                   </td><td>Staphylococcus         </td><td>genus                  </td><td>162                    </td><td>91                     </td><td>201                    </td></tr>\n",
       "\t<tr><td>1280                   </td><td>Staphylococcus aureus  </td><td>species                </td><td>108                    </td><td>56                     </td><td>108                    </td></tr>\n",
       "\t<tr><td>1281                   </td><td>Staphylococcus carnosus</td><td>species                </td><td>  1                    </td><td> 1                     </td><td>  2                    </td></tr>\n",
       "</tbody>\n",
       "</table>\n"
      ],
      "text/latex": [
       "\\begin{tabular}{r|llllll}\n",
       " TaxID & sci\\_name & rank & HG001\\_00733 & HG001\\_00584 & HG001\\_01345\\_\\_HG001\\_03252\\\\\n",
       "\\hline\n",
       "\t    2                    & Bacteria                & superkingdom            & 168                     & 95                      & 316                    \\\\\n",
       "\t 1239                    & Firmicutes              & phylum                  & 168                     & 95                      & 316                    \\\\\n",
       "\t 1260                    & Finegoldia magna        & species                 &   1                     &  0                      &   0                    \\\\\n",
       "\t 1279                    & Staphylococcus          & genus                   & 162                     & 91                      & 201                    \\\\\n",
       "\t 1280                    & Staphylococcus aureus   & species                 & 108                     & 56                      & 108                    \\\\\n",
       "\t 1281                    & Staphylococcus carnosus & species                 &   1                     &  1                      &   2                    \\\\\n",
       "\\end{tabular}\n"
      ],
      "text/markdown": [
       "\n",
       "TaxID | sci_name | rank | HG001_00733 | HG001_00584 | HG001_01345__HG001_03252 | \n",
       "|---|---|---|---|---|---|\n",
       "|    2                    | Bacteria                | superkingdom            | 168                     | 95                      | 316                     | \n",
       "| 1239                    | Firmicutes              | phylum                  | 168                     | 95                      | 316                     | \n",
       "| 1260                    | Finegoldia magna        | species                 |   1                     |  0                      |   0                     | \n",
       "| 1279                    | Staphylococcus          | genus                   | 162                     | 91                      | 201                     | \n",
       "| 1280                    | Staphylococcus aureus   | species                 | 108                     | 56                      | 108                     | \n",
       "| 1281                    | Staphylococcus carnosus | species                 |   1                     |  1                      |   2                     | \n",
       "\n",
       "\n"
      ],
      "text/plain": [
       "  TaxID sci_name                rank         HG001_00733 HG001_00584\n",
       "1    2  Bacteria                superkingdom 168         95         \n",
       "2 1239  Firmicutes              phylum       168         95         \n",
       "3 1260  Finegoldia magna        species        1          0         \n",
       "4 1279  Staphylococcus          genus        162         91         \n",
       "5 1280  Staphylococcus aureus   species      108         56         \n",
       "6 1281  Staphylococcus carnosus species        1          1         \n",
       "  HG001_01345__HG001_03252\n",
       "1 316                     \n",
       "2 316                     \n",
       "3   0                     \n",
       "4 201                     \n",
       "5 108                     \n",
       "6   2                     "
      ]
     },
     "metadata": {},
     "output_type": "display_data"
    }
   ],
   "source": [
    "distribution_tsv <- \"./GLASSgo_sRNA_distribution.tsv\"\n",
    "dist_df <- read.table(distribution_tsv, header = T, sep = \"\\t\", as.is = T, stringsAsFactors = F)\n",
    "head(dist_df)"
   ]
  },
  {
   "cell_type": "markdown",
   "metadata": {},
   "source": [
    "### plot number of hits for all sRNAs"
   ]
  },
  {
   "cell_type": "code",
   "execution_count": 18,
   "metadata": {},
   "outputs": [
    {
     "data": {
      "text/html": [
       "<table>\n",
       "<thead><tr><th scope=col>TaxID</th><th scope=col>HG001_00733</th><th scope=col>HG001_00584</th><th scope=col>HG001_01345__HG001_03252</th></tr></thead>\n",
       "<tbody>\n",
       "\t<tr><td>1239</td><td>168 </td><td>95  </td><td>316 </td></tr>\n",
       "</tbody>\n",
       "</table>\n"
      ],
      "text/latex": [
       "\\begin{tabular}{r|llll}\n",
       " TaxID & HG001\\_00733 & HG001\\_00584 & HG001\\_01345\\_\\_HG001\\_03252\\\\\n",
       "\\hline\n",
       "\t 1239 & 168  & 95   & 316 \\\\\n",
       "\\end{tabular}\n"
      ],
      "text/markdown": [
       "\n",
       "TaxID | HG001_00733 | HG001_00584 | HG001_01345__HG001_03252 | \n",
       "|---|\n",
       "| 1239 | 168  | 95   | 316  | \n",
       "\n",
       "\n"
      ],
      "text/plain": [
       "  TaxID HG001_00733 HG001_00584 HG001_01345__HG001_03252\n",
       "1 1239  168         95          316                     "
      ]
     },
     "metadata": {},
     "output_type": "display_data"
    }
   ],
   "source": [
    "total_sRNA_hits <- dist_df %>% filter(TaxID == 1239) %>% select(-c(sci_name, rank))\n",
    "total_sRNA_hits"
   ]
  },
  {
   "cell_type": "code",
   "execution_count": 37,
   "metadata": {},
   "outputs": [
    {
     "data": {
      "image/png": "[encoded data removed]",
      "text/plain": [
       "plot without title"
      ]
     },
     "metadata": {},
     "output_type": "display_data"
    }
   ],
   "source": [
    "sRNA_names <- colnames(total_sRNA_hits)[2:ncol(total_sRNA_hits)]\n",
    "sRNA_total_counts <- cbind(unlist(total_sRNA_hits[1, 2:ncol(total_sRNA_hits)]))\n",
    "par(mai=c(1,2,1,1))\n",
    "barplot(sRNA_total_counts, horiz=T, beside=T, names.arg=sRNA_names, cex.names=0.6, las=1)"
   ]
  },
  {
   "cell_type": "code",
   "execution_count": 33,
   "metadata": {},
   "outputs": [
    {
     "data": {
      "text/html": [
       "<ol class=list-inline>\n",
       "\t<li>'HG001_00733'</li>\n",
       "\t<li>'HG001_00584'</li>\n",
       "\t<li>'HG001_01345__HG001_03252'</li>\n",
       "</ol>\n"
      ],
      "text/latex": [
       "\\begin{enumerate*}\n",
       "\\item 'HG001\\_00733'\n",
       "\\item 'HG001\\_00584'\n",
       "\\item 'HG001\\_01345\\_\\_HG001\\_03252'\n",
       "\\end{enumerate*}\n"
      ],
      "text/markdown": [
       "1. 'HG001_00733'\n",
       "2. 'HG001_00584'\n",
       "3. 'HG001_01345__HG001_03252'\n",
       "\n",
       "\n"
      ],
      "text/plain": [
       "[1] \"HG001_00733\"              \"HG001_00584\"             \n",
       "[3] \"HG001_01345__HG001_03252\""
      ]
     },
     "metadata": {},
     "output_type": "display_data"
    }
   ],
   "source": [
    "colnames(total_sRNA_hits)[2:ncol(total_sRNA_hits)]"
   ]
  }
 ],
 "metadata": {
  "kernelspec": {
   "display_name": "R",
   "language": "R",
   "name": "ir"
  },
  "language_info": {
   "codemirror_mode": "r",
   "file_extension": ".r",
   "mimetype": "text/x-r-source",
   "name": "R",
   "pygments_lexer": "r",
   "version": "3.5.1"
  }
 },
 "nbformat": 4,
 "nbformat_minor": 2
}
